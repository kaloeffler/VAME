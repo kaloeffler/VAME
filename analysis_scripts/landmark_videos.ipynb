{
 "cells": [
  {
   "cell_type": "code",
   "execution_count": 6,
   "metadata": {},
   "outputs": [],
   "source": []
  },
  {
   "cell_type": "code",
   "execution_count": 48,
   "metadata": {
    "scrolled": false
   },
   "outputs": [
    {
     "name": "stdout",
     "output_type": "stream",
     "text": [
      "Anchor time idx: 9600\n",
      "Time idx neighbors 0..2:[('0', '26400'), ('1', '24840'), ('2', '45840')]\n",
      "['anchor.mp4', 'neighbor_0_26400.mp4', 'neighbor_1_24840.mp4', 'neighbor_2_45840.mp4']\n"
     ]
    },
    {
     "data": {
      "application/vnd.jupyter.widget-view+json": {
       "model_id": "efc7d4f910ca4be2a458916f9ccd5b48",
       "version_major": 2,
       "version_minor": 0
      },
      "text/plain": [
       "GridspecLayout(children=(Output(layout=Layout(grid_area='widget001')), Output(layout=Layout(grid_area='widget0…"
      ]
     },
     "metadata": {},
     "output_type": "display_data"
    }
   ],
   "source": [
    "from ipywidgets import Output, GridspecLayout\n",
    "from IPython import display\n",
    "import os\n",
    "\n",
    "time_id = 12000\n",
    "time_id = 36600\n",
    "time_id = 9600\n",
    "VIDEO_PATH = f\"/home/katharina/vame_approach/themis_tail_belly_align/results/landmarks_0057_3843S2B10Gaussians_E149_confidece/visualization/pose_sniplets_{time_id}\"\n",
    "video_files = [file for file in os.listdir(VIDEO_PATH)]\n",
    "#TODO: sort closest to less closest; add titles to grid elements\n",
    "# add timescale vis - anchor; neighbors 1...3\n",
    "anchor_video = [video_file for video_file in video_files if \"anchor\" in video_file][0]\n",
    "neighbor_videos = [video_file for video_file in video_files if \"neighbor\" in os.path.basename(video_file)]\n",
    "neighbor_names =[(neighbor_file.split(\".\")[0].split(\"_\")[1], neighbor_file.split(\".\")[0].split(\"_\")[2]) for neighbor_file in neighbor_videos]\n",
    "neighbor_names.sort(key=lambda x: x[0])\n",
    "sorted_neighbor_videos = sorted(list(zip(neighbor_names, neighbor_videos)),key=lambda x: x[0][0])\n",
    "_, sorted_neighbor_videos = list(zip(*sorted_neighbor_videos))\n",
    "\n",
    "anchor_time_idx = os.path.basename(VIDEO_PATH).split(\"_\")[-1]\n",
    "print(f\"Anchor time idx: {anchor_time_idx}\")\n",
    "print(f\"Time idx neighbors 0..2:{neighbor_names}\")\n",
    "grid = GridspecLayout(2, 3)\n",
    "\n",
    "# sorted video files\n",
    "video_files = [anchor_video, *sorted_neighbor_videos]\n",
    "print(video_files)\n",
    "for i_vid, video_f in enumerate(video_files):\n",
    "    out = Output()\n",
    "    with out:\n",
    "        display.display(display.Video(os.path.join(VIDEO_PATH,video_f), embed=True, html_attributes=\"loop autoplay\", width=300,height=300))\n",
    "    if i_vid==0:\n",
    "        i_row=0\n",
    "    else:\n",
    "        i_row = 1\n",
    "        i_vid -= 1 \n",
    "    grid[i_row,i_vid] = out\n",
    "grid\n",
    "\n",
    "\n"
   ]
  },
  {
   "cell_type": "code",
   "execution_count": null,
   "metadata": {},
   "outputs": [],
   "source": []
  },
  {
   "cell_type": "code",
   "execution_count": 12,
   "metadata": {},
   "outputs": [
    {
     "data": {
      "text/plain": [
       "[<IPython.core.display.Video object>,\n",
       " <IPython.core.display.Video object>,\n",
       " <IPython.core.display.Video object>,\n",
       " <IPython.core.display.Video object>]"
      ]
     },
     "metadata": {},
     "output_type": "display_data"
    }
   ],
   "source": []
  },
  {
   "cell_type": "code",
   "execution_count": null,
   "metadata": {},
   "outputs": [],
   "source": []
  }
 ],
 "metadata": {
  "interpreter": {
   "hash": "4c7bf34dd8152ec82eafc374d8c9e7d2e10dcd4489766d5c4929982680d7481d"
  },
  "kernelspec": {
   "display_name": "Python 3 (ipykernel)",
   "language": "python",
   "name": "python3"
  },
  "language_info": {
   "codemirror_mode": {
    "name": "ipython",
    "version": 3
   },
   "file_extension": ".py",
   "mimetype": "text/x-python",
   "name": "python",
   "nbconvert_exporter": "python",
   "pygments_lexer": "ipython3",
   "version": "3.7.13"
  }
 },
 "nbformat": 4,
 "nbformat_minor": 2
}
