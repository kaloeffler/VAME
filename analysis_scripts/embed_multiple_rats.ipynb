{
 "cells": [
  {
   "cell_type": "markdown",
   "id": "0729fc69",
   "metadata": {},
   "source": [
    "## Embed multiple rats in the same latent space\n",
    "\n",
    "Motivation: if the learned embeddings are more or less indepenend from the rat, embeddings from different rats shouldn't be embedded\n",
    "in different parts of the latent space - appart from extreme behavior which are occuring only in a single rat e.g. seisures"
   ]
  },
  {
   "cell_type": "code",
   "execution_count": null,
   "id": "b3513eb3",
   "metadata": {},
   "outputs": [],
   "source": [
    "import sys\n",
    "\n",
    "sys.path.insert(0, \"/home/katharina/vame_approach/VAME\")\n",
    "\n",
    "import matplotlib.pyplot as plt\n",
    "import numpy as np\n",
    "import pandas as pd\n",
    "from sklearn.neighbors import NearestNeighbors\n",
    "from vame.analysis.kinutils import KinVideo, create_grid_video\n",
    "import os\n",
    "from datetime import datetime\n",
    "from vame.util.auxiliary import read_config\n",
    "import logging\n",
    "import re\n",
    "from pathlib import Path\n",
    "from IPython import display\n",
    "from sklearn.manifold import TSNE\n",
    "import umap\n",
    "from fcmeans import FCM\n",
    "from ipywidgets import Output, GridspecLayout\n",
    "from scipy.spatial.distance import pdist, squareform\n",
    "from vame.analysis.visualize import (\n",
    "    create_aligned_mouse_video,\n",
    "    create_pose_snipplet,\n",
    "    create_visual_comparison,\n",
    "    thin_dataset_iteratively,\n",
    "    find_percentile_threshold,\n",
    "    estimate_fuzzifier,\n",
    "    fukuyama_sugeno_index,\n",
    ")\n",
    "from matplotlib import cm\n",
    "import seaborn as sns\n",
    "from vame.initialize_project.themis_new import get_video_metadata\n",
    "\n",
    "np.random.seed(42)\n",
    "\n",
    "%reload_ext autoreload\n",
    "%autoreload 2"
   ]
  },
  {
   "cell_type": "code",
   "execution_count": null,
   "id": "c098a87e",
   "metadata": {},
   "outputs": [],
   "source": [
    "PROJECT_PATH = \"/home/katharina/vame_approach/tb_align_0044_0089\"\n",
    "MODEL_TIME_STAMP = \"06-01-2022-16-40\"\n",
    "\n",
    "# path where the original videos are stored\n",
    "VIDEO_ROOT = \"/media/Themis/Data/Video\"\n",
    "\n",
    "USE_ALIGNED_VIDEO = True\n",
    "\n",
    "config_file = os.path.join(PROJECT_PATH, \"model\", MODEL_TIME_STAMP, \"config.yaml\")\n",
    "config = read_config(config_file)\n",
    "\n",
    "latent_vec_dir = os.path.join(PROJECT_PATH, \"inference\", \"results\", MODEL_TIME_STAMP)\n",
    "latent_vec_files = [\n",
    "    os.path.join(latent_vec_dir, file) for file in os.listdir(latent_vec_dir)\n",
    "]\n",
    "latent_vectors = {\n",
    "    os.path.basename(file).split(\"_\")[3]: np.load(file) for file in latent_vec_files\n",
    "}"
   ]
  },
  {
   "cell_type": "code",
   "execution_count": null,
   "id": "e71c495c",
   "metadata": {},
   "outputs": [],
   "source": [
    "print(latent_vectors.keys())"
   ]
  },
  {
   "cell_type": "code",
   "execution_count": null,
   "id": "c403cbe4",
   "metadata": {},
   "outputs": [],
   "source": [
    "# dilute the datasets\n",
    "neighbor_percentiles = {}\n",
    "latent_vectors_diluted = {}\n",
    "time_ids_diluted = {}\n",
    "for video_id, latent_vec in latent_vectors.items():\n",
    "    neighbor_percentiles[video_id] = find_percentile_threshold(\n",
    "        latent_vec, config[\"time_window\"]\n",
    "    )\n",
    "    remaining_embeddings, remaining_time_ids = thin_dataset_iteratively(\n",
    "        latent_vec, 0.00001, neighbor_percentiles[video_id], config[\"time_window\"]\n",
    "    )\n",
    "\n",
    "    latent_vectors_diluted[video_id] = remaining_embeddings\n",
    "    time_ids_diluted[video_id] = remaining_time_ids"
   ]
  },
  {
   "cell_type": "code",
   "execution_count": null,
   "id": "94a0516c",
   "metadata": {},
   "outputs": [],
   "source": [
    "labels, all_latent_vectors = list(\n",
    "    zip(*[(k, v) for k, v in latent_vectors_diluted.items()])\n",
    ")"
   ]
  },
  {
   "cell_type": "code",
   "execution_count": null,
   "id": "dd495e5f",
   "metadata": {},
   "outputs": [],
   "source": [
    "labels_full = [[l] * len(latent_vectors_diluted[l]) for l in labels]\n",
    "labels_full = np.array([l for sub_list in labels_full for l in sub_list])\n",
    "all_latent_vectors = np.concatenate(all_latent_vectors)"
   ]
  },
  {
   "cell_type": "code",
   "execution_count": null,
   "id": "0b7e3abd",
   "metadata": {},
   "outputs": [],
   "source": [
    "umap_trafo = umap.UMAP(\n",
    "    n_components=2, min_dist=0.001, n_neighbors=30, random_state=config[\"random_state\"]\n",
    ").fit(all_latent_vectors)"
   ]
  },
  {
   "cell_type": "code",
   "execution_count": null,
   "id": "05649af6",
   "metadata": {},
   "outputs": [],
   "source": [
    "%matplotlib widget\n",
    "print(all_latent_vectors.shape)\n",
    "umap_embeddings = umap_trafo.transform(all_latent_vectors)\n",
    "\n",
    "cmap = cm.get_cmap(\"rainbow\", len(labels))\n",
    "for l in labels:\n",
    "    print(l)\n",
    "    plt.scatter(\n",
    "        umap_embeddings[labels_full == l, 0],\n",
    "        umap_embeddings[labels_full == l, 1],\n",
    "        color=cmap(labels.index(l)),\n",
    "        edgecolor=\"k\",\n",
    "        label=l,\n",
    "    )\n",
    "plt.legend()"
   ]
  },
  {
   "cell_type": "code",
   "execution_count": null,
   "id": "9733d4f6",
   "metadata": {},
   "outputs": [],
   "source": [
    "%matplotlib widget\n",
    "from sklearn.decomposition import PCA\n",
    "\n",
    "pca = PCA(n_components=2)\n",
    "\n",
    "pca_vectors = pca.fit_transform(all_latent_vectors)\n",
    "\n",
    "colors = np.stack([cmap(labels.index(l)) for l in labels_full])\n",
    "plt.scatter(pca_vectors[:, 0], pca_vectors[:, 1], label=labels_full, color=colors)"
   ]
  },
  {
   "cell_type": "code",
   "execution_count": null,
   "id": "a6b80b8e",
   "metadata": {},
   "outputs": [],
   "source": []
  }
 ],
 "metadata": {
  "kernelspec": {
   "display_name": "Python [conda env:venv_VAME] *",
   "language": "python",
   "name": "conda-env-venv_VAME-py"
  },
  "language_info": {
   "codemirror_mode": {
    "name": "ipython",
    "version": 3
   },
   "file_extension": ".py",
   "mimetype": "text/x-python",
   "name": "python",
   "nbconvert_exporter": "python",
   "pygments_lexer": "ipython3",
   "version": "3.7.13"
  }
 },
 "nbformat": 4,
 "nbformat_minor": 5
}
